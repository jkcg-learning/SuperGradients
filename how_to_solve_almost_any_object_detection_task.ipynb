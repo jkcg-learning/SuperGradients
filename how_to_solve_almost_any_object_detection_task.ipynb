{
  "metadata": {
    "colab": {
      "provenance": [],
      "include_colab_link": true
    },
    "kernelspec": {
      "name": "python3",
      "display_name": "Python 3"
    },
    "language_info": {
      "name": "python"
    }
  },
  "nbformat_minor": 0,
  "nbformat": 4,
  "cells": [
    {
      "cell_type": "markdown",
      "metadata": {
        "id": "view-in-github",
        "colab_type": "text"
      },
      "source": [
        "<a href=\"https://colab.research.google.com/github/jkcg-learning/SuperGradients/blob/main/how_to_solve_almost_any_object_detection_task.ipynb\" target=\"_parent\"><img src=\"https://colab.research.google.com/assets/colab-badge.svg\" alt=\"Open In Colab\"/></a>"
      ]
    },
    {
      "cell_type": "markdown",
      "source": [
        "\n",
        "#### If you haven't already, be sure to go through the intro to SG notebook. You can find it [here.](https://bit.ly/yolo-nas-starter-notebook)\n",
        "\n",
        "\n",
        "# Looking for some data?\n",
        "\n",
        "I've got you covered!\n",
        "\n",
        "Here are some datasets you might want to try your hand at:\n",
        "\n",
        " - [HuggingFace competition: Ship detection](https://huggingface.co/spaces/competitions/ship-detection)\n",
        "\n",
        "- [Aquarium dataset on RoboFlow](https://public.roboflow.com/object-detection/aquarium)\n",
        "\n",
        "- [Vehicles-OpenImages Dataset on RoboFlow](https://public.roboflow.com/object-detection/vehicles-openimages)\n",
        "\n",
        "- [Winegrape detection](https://github.com/thsant/wgisd)\n",
        "\n",
        "- [Low light object detection](https://github.com/cs-chan/Exclusively-Dark-Image-Dataset)\n",
        "\n",
        "- [Infrafred person detection](https://camel.ece.gatech.edu/)\n",
        "\n",
        "- [Pothole detection](https://www.kaggle.com/datasets/chitholian/annotated-potholes-dataset)\n",
        "\n",
        "- [100k Labeled Road Images | Day, Night](https://www.kaggle.com/datasets/solesensei/solesensei_bdd100k)\n",
        "\n",
        "- [Deep Fashion dataset](https://github.com/switchablenorms/DeepFashion2)\n",
        "\n",
        "- [Playing card detection](https://www.kaggle.com/datasets/luantm/playing-card)\n",
        "\n",
        "- [Anaomoly detection in videos](https://www.crcv.ucf.edu/projects/real-world/)\n",
        "\n",
        "- [Underwater fish recognition](https://www.kaggle.com/datasets/aalborguniversity/brackish-dataset)\n",
        "\n",
        "- [Document layout detection](https://www.primaresearch.org/datasets/Layout_Analysis)\n",
        "\n",
        "- [Trash Annotations in Context](http://tacodataset.org/)"
      ],
      "metadata": {
        "id": "zhoJSdPPc4Yl"
      }
    },
    {
      "cell_type": "markdown",
      "source": [
        "# 👩🏿‍🔧 Installations\n",
        "\n",
        "Note: after installation is complete (it make take a few minutes), you'll need to restart the runtime after installation completes. \n",
        "\n",
        "This is a known [issue](https://github.com/obss/sahi/discussions/781) that is on our roadmap."
      ],
      "metadata": {
        "id": "F4ZmWC_PVpxI"
      }
    },
    {
      "cell_type": "code",
      "source": [
        "%%capture\n",
        "!pip install super-gradients==3.1.0"
      ],
      "metadata": {
        "id": "SLiT-caTVpjY"
      },
      "execution_count": null,
      "outputs": []
    },
    {
      "cell_type": "markdown",
      "source": [
        "# 🏗️ Imports"
      ],
      "metadata": {
        "id": "dKWrfNcwVsoT"
      }
    },
    {
      "cell_type": "code",
      "source": [
        "import os\n",
        "\n",
        "import requests\n",
        "import torch\n",
        "from PIL import Image\n",
        "\n",
        "from super_gradients.training import Trainer, dataloaders, models\n",
        "from super_gradients.training.dataloaders.dataloaders import (\n",
        "    coco_detection_yolo_format_train, coco_detection_yolo_format_val\n",
        ")\n",
        "from super_gradients.training.losses import PPYoloELoss\n",
        "from super_gradients.training.metrics import DetectionMetrics_050\n",
        "from super_gradients.training.models.detection_models.pp_yolo_e import (\n",
        "    PPYoloEPostPredictionCallback\n",
        ")"
      ],
      "metadata": {
        "id": "C-AIuGacVsuq"
      },
      "execution_count": null,
      "outputs": []
    },
    {
      "cell_type": "markdown",
      "source": [
        "# 🗃️ Config\n",
        "\n",
        "This class will store variables that will be used throughout the notebook"
      ],
      "metadata": {
        "id": "HOt0WPStN5MW"
      }
    },
    {
      "cell_type": "code",
      "source": [
        "class config:\n",
        "    #trainer params\n",
        "    CHECKPOINT_DIR = 'path/to/checkpoint/dir' #specify the path you want to save checkpoints to\n",
        "    EXPERIMENT_NAME = 'choose-an-experiment-name' #specify the experiment name\n",
        "\n",
        "    #dataset params\n",
        "    DATA_DIR = 'path/to/your/data' #parent directory to where data lives\n",
        "\n",
        "    TRAIN_IMAGES_DIR = 'train/images' #child dir of DATA_DIR where train images are\n",
        "    TRAIN_LABELS_DIR = 'train/labels' #child dir of DATA_DIR where train labels are\n",
        "\n",
        "    VAL_IMAGES_DIR = 'val/images' #child dir of DATA_DIR where validation images are\n",
        "    VAL_LABELS_DIR = 'val/labels' #child dir of DATA_DIR where validation labels are\n",
        "\n",
        "    # if you have a test set\n",
        "    TEST_IMAGES_DIR = 'test/images' #child dir of DATA_DIR where test images are\n",
        "    TEST_LABELS_DIR = 'test/labels' #child dir of DATA_DIR where test labels are\n",
        "\n",
        "    CLASSES = ['list', 'your', 'classnames', 'here'] #what class names do you have\n",
        "\n",
        "    NUM_CLASSES = len(CLASSES)\n",
        "\n",
        "    #dataloader params - you can add whatever PyTorch dataloader params you have\n",
        "    #could be different across train, val, and test\n",
        "    DATALOADER_PARAMS={\n",
        "    'batch_size':16,\n",
        "    'num_workers':2\n",
        "    }\n",
        "\n",
        "    # model params\n",
        "    MODEL_NAME = 'yolo_nas_l' # choose from yolo_nas_s, yolo_nas_m, yolo_nas_l\n",
        "    PRETRAINED_WEIGHTS = 'coco' #only one option here: coco\n",
        "    "
      ],
      "metadata": {
        "id": "wFrDFfstc_6V"
      },
      "execution_count": null,
      "outputs": []
    },
    {
      "cell_type": "markdown",
      "source": [
        "# 🏋🏽 The Trainer"
      ],
      "metadata": {
        "id": "PH7NA55aULTM"
      }
    },
    {
      "cell_type": "code",
      "source": [
        "trainer = Trainer(experiment_name=config.EXPERIMENT_NAME, ckpt_root_dir=config.CHECKPOINT_DIR)"
      ],
      "metadata": {
        "id": "3gUH-fKXULZ2"
      },
      "execution_count": null,
      "outputs": []
    },
    {
      "cell_type": "markdown",
      "source": [
        "# 💾 Datasets and Dataloaders\n"
      ],
      "metadata": {
        "id": "QzHKgz4_N7Ah"
      }
    },
    {
      "cell_type": "code",
      "source": [
        "train_data = coco_detection_yolo_format_train(\n",
        "    dataset_params={\n",
        "        'data_dir': config.DATA_DIR,\n",
        "        'images_dir': config.TRAIN_IMAGES_DIR,\n",
        "        'labels_dir': config.TRAIN_LABELS_DIR,\n",
        "        'classes': config.CLASSES\n",
        "    },\n",
        "    dataloader_params=config.DATALOADER_PARAMS\n",
        ")\n",
        "\n",
        "val_data = coco_detection_yolo_format_val(\n",
        "    dataset_params={\n",
        "        'data_dir': config.DATA_DIR,\n",
        "        'images_dir': config.VAL_IMAGES_DIR,\n",
        "        'labels_dir': config.VAL_LABELS_DIR,\n",
        "        'classes': config.CLASSES\n",
        "    },\n",
        "    dataloader_params=config.DATALOADER_PARAMS\n",
        ")\n",
        "\n",
        "test_data = coco_detection_yolo_format_val(\n",
        "    dataset_params={\n",
        "        'data_dir': config.DATA_DIR,\n",
        "        'images_dir': config.TEST_IMAGES_DIR,\n",
        "        'labels_dir': config.TEST_LABELS_DIR,\n",
        "        'classes': config.CLASSES\n",
        "    },\n",
        "    dataloader_params=config.DATALOADER_PARAMS\n",
        ")"
      ],
      "metadata": {
        "id": "OMDe3MjVON0Q"
      },
      "execution_count": null,
      "outputs": []
    },
    {
      "cell_type": "markdown",
      "source": [
        "## 👀 See what some images look like after augmentations"
      ],
      "metadata": {
        "id": "CA109L2W7YFi"
      }
    },
    {
      "cell_type": "code",
      "source": [
        "train_data.dataset.plot()"
      ],
      "metadata": {
        "id": "me7lCCBQ7Yc0"
      },
      "execution_count": null,
      "outputs": []
    },
    {
      "cell_type": "markdown",
      "source": [
        "# 👩🏽‍🦳 Instantiate the model\n",
        "\n",
        "Below is how to instantiate the model for finetuning. Note you need to add the `num_classes` argument here.\n",
        "\n",
        "Note, for this tutorial you're using `yolo_nas_l`, but SuperGradients has two other flavors of YOLONAS available to you: `yolo_nas_s` and `yolo_nas_m`."
      ],
      "metadata": {
        "id": "qUFD9ixdOOdU"
      }
    },
    {
      "cell_type": "code",
      "source": [
        "model = models.get(config.MODEL_NAME, \n",
        "                   num_classes=config.NUM_CLASSES, \n",
        "                   pretrained_weights=config.PRETRAINED_WEIGHTS\n",
        "                   )"
      ],
      "metadata": {
        "id": "dDLBwaqIOOiG"
      },
      "execution_count": null,
      "outputs": []
    },
    {
      "cell_type": "markdown",
      "source": [
        "# 📊 Define metrics and training parameters\n",
        "\n",
        "You need to define the training parameters for your training run. \n",
        "\n",
        "Full details about the training parameters can be found [here](https://github.com/Deci-AI/super-gradients/blob/master/src/super_gradients/recipes/training_hyperparams/default_train_params.yaml).\n",
        "\n",
        "\n",
        "### 🚨 There are a few **mandatory** arguments that you must define for training params 🚨\n",
        "\n",
        "- `max_epochs` - Max number of training epochs\n",
        "\n",
        "- `loss` - the loss function you want to use\n",
        "\n",
        "- `optimizer` - Optimizer you will be using\n",
        "\n",
        "- `train_metrics_list` - Metrics to log during training\n",
        "\n",
        "- `valid_metrics_list` - Metrics to log during training\n",
        "\n",
        "- `metric_to_watch` - metric which the model checkpoint will be saved according to\n",
        "\n",
        "You can choose from a variety of `optimizer`'s such as: Adam, AdamW, SGD, Lion, or RMSProps. If you choose to change the defualt parameters of these optimizrs you pass them into `optimizer_params`. "
      ],
      "metadata": {
        "id": "Ig7WCLQmOOru"
      }
    },
    {
      "cell_type": "code",
      "source": [
        "train_params = {\n",
        "    # ENABLING SILENT MODE\n",
        "    \"average_best_models\":True,\n",
        "    \"warmup_mode\": \"linear_epoch_step\",\n",
        "    \"warmup_initial_lr\": 1e-6,\n",
        "    \"lr_warmup_epochs\": 3,\n",
        "    \"initial_lr\": 5e-4,\n",
        "    \"lr_mode\": \"cosine\",\n",
        "    \"cosine_final_lr_ratio\": 0.1,\n",
        "    \"optimizer\": \"Adam\",\n",
        "    \"optimizer_params\": {\"weight_decay\": 0.0001},\n",
        "    \"zero_weight_decay_on_bias_and_bn\": True,\n",
        "    \"ema\": True,\n",
        "    \"ema_params\": {\"decay\": 0.9, \"decay_type\": \"threshold\"},\n",
        "    # ONLY TRAINING FOR 10 EPOCHS FOR THIS EXAMPLE NOTEBOOK\n",
        "    \"max_epochs\": 10,\n",
        "    \"mixed_precision\": True,\n",
        "    \"loss\": PPYoloELoss(\n",
        "        use_static_assigner=False,\n",
        "        # NOTE: num_classes needs to be defined here\n",
        "        num_classes=config.NUM_CLASSES,\n",
        "        reg_max=16\n",
        "    ),\n",
        "    \"valid_metrics_list\": [\n",
        "        DetectionMetrics_050(\n",
        "            score_thres=0.1,\n",
        "            top_k_predictions=300,\n",
        "            # NOTE: num_classes needs to be defined here\n",
        "            num_cls=config.NUM_CLASSES,\n",
        "            normalize_targets=True,\n",
        "            post_prediction_callback=PPYoloEPostPredictionCallback(\n",
        "                score_threshold=0.01,\n",
        "                nms_top_k=1000,\n",
        "                max_predictions=300,\n",
        "                nms_threshold=0.7\n",
        "            )\n",
        "        )\n",
        "    ],\n",
        "    \"metric_to_watch\": 'mAP@0.50'\n",
        "}"
      ],
      "metadata": {
        "id": "ACaH_Cf48KMU"
      },
      "execution_count": null,
      "outputs": []
    },
    {
      "cell_type": "markdown",
      "source": [
        "# 🦾 Train the model\n",
        "\n",
        "You've covered a lot of ground so far:\n",
        "\n",
        "✅ Instantiated the trainer\n",
        "\n",
        "✅ Defined your dataset parameters and dataloaders\n",
        "\n",
        "✅ Instantiated a model\n",
        "\n",
        "✅ Set up your training parameters\n",
        "\n",
        "### ⏳ Now, its time to train a model \n",
        "\n",
        "Training a model using a SuperGradients is done using the `trainer`.\n",
        "\n",
        "It's as easy as.."
      ],
      "metadata": {
        "id": "zAh1OWSWOO4-"
      }
    },
    {
      "cell_type": "code",
      "source": [
        "trainer.train(model=model, \n",
        "              training_params=train_params, \n",
        "              train_loader=train_data, \n",
        "              valid_loader=val_data)"
      ],
      "metadata": {
        "id": "PoDBcIm4OO9v"
      },
      "execution_count": null,
      "outputs": []
    },
    {
      "cell_type": "markdown",
      "source": [
        "# 🏆 Get the best trained model\n",
        "\n",
        "Now that training is complete, you need to get the best trained model.\n",
        "\n",
        "You used checkpoint averaging so the following code will use weights averaged across training runs. \n",
        "\n",
        "If you want to use the best weights, or weights from the last epoch you'd use one of the following in the code below:\n",
        "\n",
        "- best weights: `checkpoint_path = os.path.join(config.CHECKPOINT_DIR, config.EXPERIMENT_NAME, ckpt_best.pth)`\n",
        "\n",
        "- last weights: `checkpoint_path = os.path.join(config.CHECKPOINT_DIR, config.EXPERIMENT_NAME, ckpt_latest.pth)`"
      ],
      "metadata": {
        "id": "NYcNde5DWT7L"
      }
    },
    {
      "cell_type": "code",
      "source": [
        "best_model = models.get(config.MODEL_NAME,\n",
        "                        num_classes=config.NUM_CLASSES,\n",
        "                        checkpoint_path=os.path.join(config.CHECKPOINT_DIR, config.EXPERIMENT_NAME, 'average_model.pth'))"
      ],
      "metadata": {
        "id": "bczlQO9hWT__"
      },
      "execution_count": null,
      "outputs": []
    },
    {
      "cell_type": "markdown",
      "source": [
        "# 🧐 Evaluating the best trained model on the test set"
      ],
      "metadata": {
        "id": "CXU5H5l7WUFS"
      }
    },
    {
      "cell_type": "code",
      "source": [
        "trainer.test(model=best_model,\n",
        "            test_loader=test_loader,\n",
        "            test_metrics_list=DetectionMetrics_050(score_thres=0.1, \n",
        "                                                   top_k_predictions=300, \n",
        "                                                   num_cls=config.NUM_CLASSES, \n",
        "                                                   normalize_targets=True, \n",
        "                                                   post_prediction_callback=PPYoloEPostPredictionCallback(score_threshold=0.01, \n",
        "                                                                                                          nms_top_k=1000, \n",
        "                                                                                                          max_predictions=300,                                                                              nms_threshold=0.7)\n",
        "                                                  ))"
      ],
      "metadata": {
        "id": "O8pkljzP04Jn"
      },
      "execution_count": null,
      "outputs": []
    },
    {
      "cell_type": "markdown",
      "source": [
        "# 🔮 Predicting with the best model\n",
        "\n",
        "You can make a prediction by calling the `.predict()` method of the model object.\n",
        "\n",
        "Note, you can set the confidence threshold value as you please.\n"
      ],
      "metadata": {
        "id": "2mMDeZQROPCZ"
      }
    },
    {
      "cell_type": "code",
      "source": [
        "best_model.predict( \"path/to/your/asset\",  conf=0.25).show()"
      ],
      "metadata": {
        "id": "knJD-OJUWYpy"
      },
      "execution_count": null,
      "outputs": []
    },
    {
      "cell_type": "markdown",
      "source": [
        "# Post training quantization (PTQ) and quantization aware training (QAT)\n",
        "\n",
        "SuperGradients offers PTQ and QAT out of the box. That's beyond the scope of this introductory tutorial. It is, in my opinion, a truly awesome feature. \n",
        "\n",
        "Not many training libaries offer this out of the box.  You can learn more about PTQ and QAT [here](https://github.com/Deci-AI/super-gradients/blob/c339e2619616878172c060e6491c8c2129ed3fd4/documentation/source/ptq_qat.md).\n",
        "\n",
        "An example specific to YOLONAS can be found [here](https://github.com/Deci-AI/super-gradients/blob/feature/SG-736_deci_yolo_rf100/documentation/source/qat_ptq_yolo_nas.md)."
      ],
      "metadata": {
        "id": "0djhb6KYWY9x"
      }
    }
  ]
}